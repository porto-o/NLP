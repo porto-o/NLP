{
 "cells": [
  {
   "cell_type": "markdown",
   "metadata": {},
   "source": [
    "## Tokenization\n",
    "\n",
    "In this tool, tokenization will be about getting word chunks, i.e. ignore punctuation, spaces and number symbols."
   ]
  },
  {
   "cell_type": "code",
   "execution_count": 60,
   "metadata": {},
   "outputs": [],
   "source": [
    "def is_symbol(character: str) -> bool:\n",
    "    decimal = ord(character)\n",
    "    return (33 <= decimal <= 47) or (58 <= decimal <= 64) or (91 <= decimal <= 96) or (123 <= decimal <= 126)"
   ]
  },
  {
   "cell_type": "code",
   "execution_count": 61,
   "metadata": {},
   "outputs": [],
   "source": [
    "def is_number_char(ascii) -> bool:\n",
    "    return 48 <= ascii <= 57"
   ]
  },
  {
   "cell_type": "code",
   "execution_count": 62,
   "metadata": {},
   "outputs": [],
   "source": [
    "def is_number_word(word) -> bool:\n",
    "    flag = True\n",
    "    for char in word:\n",
    "        if not is_number_char(ord(char)):\n",
    "            flag = False\n",
    "    return flag"
   ]
  },
  {
   "cell_type": "code",
   "execution_count": 63,
   "metadata": {},
   "outputs": [],
   "source": [
    "def number_remove(word) -> str:\n",
    "    if not is_number_word(word):\n",
    "        if is_number_char(ord(word[-1])):\n",
    "            return word[0:-1]\n",
    "        elif is_number_char(ord(word[0])):\n",
    "            return word[1:]\n",
    "    return word"
   ]
  },
  {
   "cell_type": "code",
   "execution_count": 64,
   "metadata": {},
   "outputs": [],
   "source": [
    "def tokenize(document: str) -> list:\n",
    "    tokens = [None] * len(document)\n",
    "    i = 0\n",
    "    flag = 0\n",
    "\n",
    "    for letter in document:\n",
    "        if ord(letter) == 32 or is_symbol(letter):\n",
    "            # If space, symbol or number detected, then there must be a chunk to add to tokens\n",
    "            # Adding all the word from the flag up to the index of the actual letter\n",
    "            tokens[i] = document[flag:i]\n",
    "            # Changing the value of the flag, i.e., it stores the index of the next item added at the previous step\n",
    "            flag = i + 1\n",
    "        i += 1\n",
    "\n",
    "    tokens += [document[flag:i]]\n",
    "\n",
    "    tokens = [x for x in tokens if x is not None and x != '']\n",
    "\n",
    "    for idx_token in range(len(tokens) - 1):\n",
    "        tokens[idx_token] = number_remove(tokens[idx_token])\n",
    "\n",
    "    tokens = [x for x in tokens if x is not None and x != '']\n",
    "\n",
    "    return tokens"
   ]
  },
  {
   "cell_type": "markdown",
   "metadata": {},
   "source": [
    "## Utils"
   ]
  },
  {
   "cell_type": "code",
   "execution_count": 65,
   "metadata": {},
   "outputs": [],
   "source": [
    "def append(array, element):\n",
    "    current_length = len(array)\n",
    "    \n",
    "    new_array = [None] * (current_length + 1)\n",
    "    \n",
    "    for i in range(current_length):\n",
    "        new_array[i] = array[i]\n",
    "    \n",
    "    new_array[current_length] = element\n",
    "    \n",
    "    return new_array"
   ]
  },
  {
   "cell_type": "markdown",
   "metadata": {},
   "source": [
    "## Remove Stopwords"
   ]
  },
  {
   "cell_type": "code",
   "execution_count": 66,
   "metadata": {},
   "outputs": [],
   "source": [
    "def is_stop_word(word: str) -> bool:\n",
    "    stopwords = [\"el\", \"y\", \"eso\", \"la\", \"los\", \"las\" ,\"de\",\"en\",\"a\",\"un\",\"uno\",\"una\",\"es\",\"con\",\"es\",\"con\",\"para\",\"al\",\"del\"]\n",
    "    return word in stopwords"
   ]
  },
  {
   "cell_type": "code",
   "execution_count": 67,
   "metadata": {},
   "outputs": [],
   "source": [
    "def remove_stopwords(document: str) -> str:\n",
    "    new_doc = list()\n",
    "    for word in document:\n",
    "        if not is_stop_word(word):\n",
    "            new_doc = append(new_doc, word)\n",
    "    return new_doc"
   ]
  },
  {
   "cell_type": "markdown",
   "metadata": {},
   "source": [
    "## Lower case"
   ]
  },
  {
   "cell_type": "code",
   "execution_count": 68,
   "metadata": {},
   "outputs": [],
   "source": [
    "def to_lower(text: str) -> str:\n",
    "    \n",
    "    final_text = \"\"\n",
    "\n",
    "    for char in text:\n",
    "        if 65 <= ord(char) <= 90:\n",
    "            char = chr(ord(char) + 32)\n",
    "        final_text += char\n",
    "    \n",
    "    return final_text"
   ]
  },
  {
   "cell_type": "markdown",
   "metadata": {},
   "source": [
    "## BoW"
   ]
  },
  {
   "cell_type": "code",
   "execution_count": 69,
   "metadata": {},
   "outputs": [],
   "source": [
    "def get_vocabulary(corpus: list) -> list:\n",
    "    vocabulary = []\n",
    "    \n",
    "    for document in corpus:\n",
    "        for word in document:\n",
    "            if word not in vocabulary:\n",
    "                vocabulary = append(vocabulary, word)\n",
    "    return vocabulary\n"
   ]
  },
  {
   "cell_type": "markdown",
   "metadata": {},
   "source": [
    "## Test"
   ]
  },
  {
   "cell_type": "code",
   "execution_count": 70,
   "metadata": {},
   "outputs": [],
   "source": [
    "corpus = list()\n",
    "for i in range(3):\n",
    "    corpus = append(corpus, to_lower(input(f'Ingresa la oracion {i+1}: ')))\n",
    "\n",
    "tokens = list()\n",
    "\n",
    "for document in corpus:\n",
    "    document = tokenize(document)\n",
    "    tokens = append(tokens, remove_stopwords(document))"
   ]
  },
  {
   "cell_type": "code",
   "execution_count": null,
   "metadata": {},
   "outputs": [],
   "source": [
    "tokens"
   ]
  },
  {
   "cell_type": "code",
   "execution_count": 72,
   "metadata": {},
   "outputs": [],
   "source": [
    "vocabulary = get_vocabulary(tokens)"
   ]
  },
  {
   "cell_type": "code",
   "execution_count": 73,
   "metadata": {},
   "outputs": [],
   "source": [
    "def bag_of_words_sentence(vocabulary: list, corpus: list) -> list:\n",
    "    print(f'Vocabulario-------{vocabulary}')\n",
    "    bag = []\n",
    "\n",
    "    for doc in corpus:\n",
    "        vocabulary_vector_token = [0]*len(vocabulary)\n",
    "        for token in doc:\n",
    "            print(token)\n",
    "            vocabulary_vector_token[vocabulary.index(token)] += 1\n",
    "        print(vocabulary_vector_token)\n",
    "        bag += [vocabulary_vector_token]\n",
    "\n",
    "    return bag"
   ]
  },
  {
   "cell_type": "code",
   "execution_count": null,
   "metadata": {},
   "outputs": [],
   "source": [
    "bag_of_words_sentence(vocabulary, tokens)"
   ]
  },
  {
   "cell_type": "code",
   "execution_count": 109,
   "metadata": {},
   "outputs": [],
   "source": [
    "def bag_of_words_w(vocabulary: list, corpus: list) -> list:\n",
    "    print(f'Vocabulario-------{vocabulary}')\n",
    "    bag = []\n",
    "    words_already = []\n",
    "\n",
    "    for word in vocabulary:\n",
    "        # Una fila por palabra unica\n",
    "        # En caso de que la palabra ya haya sido contada, se incrementa el contador en la fila correspondiente y columna correspondiente\n",
    "        # Cada columna es una palabra del vocabulario\n",
    "        # Cada fila es una palabra unica del documento -> token\n",
    "        # Cada celda es el contador de la palabra en el documento\n",
    "        vocabulary_vector_token = [0]*len(vocabulary)\n",
    "        for doc in corpus:\n",
    "            if word in doc:\n",
    "                vocabulary_vector_token[vocabulary.index(word)] += 1\n",
    "        bag += [vocabulary_vector_token]\n",
    "        print(f'Conteo para la palabra \"{word}\": {vocabulary_vector_token}')\n",
    "\n",
    "    return bag"
   ]
  },
  {
   "cell_type": "code",
   "execution_count": null,
   "metadata": {},
   "outputs": [],
   "source": [
    "bag_of_words_w(vocabulary, tokens)"
   ]
  },
  {
   "cell_type": "code",
   "execution_count": null,
   "metadata": {},
   "outputs": [],
   "source": []
  }
 ],
 "metadata": {
  "kernelspec": {
   "display_name": ".venv",
   "language": "python",
   "name": "python3"
  },
  "language_info": {
   "codemirror_mode": {
    "name": "ipython",
    "version": 3
   },
   "file_extension": ".py",
   "mimetype": "text/x-python",
   "name": "python",
   "nbconvert_exporter": "python",
   "pygments_lexer": "ipython3",
   "version": "3.12.6"
  }
 },
 "nbformat": 4,
 "nbformat_minor": 2
}
