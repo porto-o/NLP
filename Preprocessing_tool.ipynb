{
 "cells": [
  {
   "cell_type": "markdown",
   "metadata": {},
   "source": [
    "## Tokenization\n",
    "\n",
    "In this tool, tokenization will be about getting word chunks, i.e. ignore punctuation, spaces and number symbols."
   ]
  },
  {
   "cell_type": "code",
   "execution_count": 226,
   "metadata": {},
   "outputs": [],
   "source": [
    "def is_symbol(character: str) -> bool:\n",
    "    decimal = ord(character)\n",
    "    return (33 <= decimal <= 47) or (58 <= decimal <= 64) or (91 <= decimal <= 96) or (123 <= decimal <= 126)"
   ]
  },
  {
   "cell_type": "code",
   "execution_count": 227,
   "metadata": {},
   "outputs": [],
   "source": [
    "def is_number_char(ascii) -> bool:\n",
    "    return 48 <= ascii <= 57"
   ]
  },
  {
   "cell_type": "code",
   "execution_count": 228,
   "metadata": {},
   "outputs": [],
   "source": [
    "def is_number_word(word) -> bool:\n",
    "    flag = True\n",
    "    for char in word:\n",
    "        if not is_number_char(ord(char)):\n",
    "            flag = False\n",
    "    return flag"
   ]
  },
  {
   "cell_type": "code",
   "execution_count": 229,
   "metadata": {},
   "outputs": [],
   "source": [
    "def number_remove(word) -> str:\n",
    "    if not is_number_word(word):\n",
    "        if is_number_char(ord(word[-1])):\n",
    "            return word[0:-1]\n",
    "        elif is_number_char(ord(word[0])):\n",
    "            return word[1:]\n",
    "    return word"
   ]
  },
  {
   "cell_type": "code",
   "execution_count": 230,
   "metadata": {},
   "outputs": [],
   "source": [
    "def tokenize(document: str) -> list:\n",
    "    tokens = [None] * len(document)\n",
    "    i = 0\n",
    "    flag = 0\n",
    "\n",
    "    for letter in document:\n",
    "        #print(tokens)\n",
    "        if ord(letter) == 32 or is_symbol(letter):\n",
    "            # If space, symbol or number detected, then there must be a chunk to add to tokens\n",
    "            # Adding all the word from the flag up to the index of the actual letter\n",
    "            tokens[i] = document[flag:i]\n",
    "            #print(tokens[i])\n",
    "            # Changing the value of the flag, i.e., it stores the index of the next item added at the previous step\n",
    "            flag = i + 1\n",
    "        i += 1\n",
    "\n",
    "    #print(len(tokens))\n",
    "    #print(i)\n",
    "    #tokens.append(document[flag:1])\n",
    "    tokens += [document[flag:i]]\n",
    "    #tokens[i-1] = document[flag:i]\n",
    "    #print(tokens)\n",
    "    #print(\"a\", document[flag:i])\n",
    "    \n",
    "    \n",
    "    tokens = [x for x in tokens if x is not None and x != '']\n",
    "    #print(tokens)\n",
    "\n",
    "    for idx_token in range(len(tokens) - 1):\n",
    "        tokens[idx_token] = number_remove(tokens[idx_token])\n",
    "\n",
    "\n",
    "    tokens = [x for x in tokens if x is not None and x != '']\n",
    "\n",
    "    return tokens"
   ]
  },
  {
   "cell_type": "markdown",
   "metadata": {},
   "source": [
    "## Remove Stopwords"
   ]
  },
  {
   "cell_type": "code",
   "execution_count": 231,
   "metadata": {},
   "outputs": [],
   "source": [
    "stopwords = [\"el\", \"y\", \"eso\", \"la\", \"los\", \"las\" ,\"de\",\"en\",\"a\",\"un\",\"uno\",\"una\",\"es\",\"con\",\"es\",\"con\",\"para\",\"al\",\"del\"]"
   ]
  },
  {
   "cell_type": "code",
   "execution_count": 232,
   "metadata": {},
   "outputs": [],
   "source": [
    "def remove_stopwords(document: str) -> str:\n",
    "    pass"
   ]
  },
  {
   "cell_type": "markdown",
   "metadata": {},
   "source": [
    "## Lower case"
   ]
  },
  {
   "cell_type": "code",
   "execution_count": 233,
   "metadata": {},
   "outputs": [],
   "source": [
    "def to_lower(text: str) -> str:\n",
    "    \n",
    "    final_text = \"\"\n",
    "\n",
    "    for char in text:\n",
    "        if 65 <= ord(char) <= 90:\n",
    "            char = chr(ord(char) + 32)\n",
    "        final_text += char\n",
    "    \n",
    "    return final_text"
   ]
  },
  {
   "cell_type": "markdown",
   "metadata": {},
   "source": [
    "## Test"
   ]
  },
  {
   "cell_type": "code",
   "execution_count": 234,
   "metadata": {},
   "outputs": [],
   "source": [
    "# Convertir texto a minúsculas\n",
    "text = to_lower(\"éstoY s3 6233333 y también TENgo mucho TraBajo! vaya maló\")\n",
    "# Tokenizar texto\n",
    "text = tokenize(text)"
   ]
  },
  {
   "cell_type": "code",
   "execution_count": 235,
   "metadata": {},
   "outputs": [
    {
     "data": {
      "text/plain": [
       "['éstoy',\n",
       " 's',\n",
       " '6233333',\n",
       " 'y',\n",
       " 'también',\n",
       " 'tengo',\n",
       " 'mucho',\n",
       " 'trabajo',\n",
       " 'vaya',\n",
       " 'maló']"
      ]
     },
     "execution_count": 235,
     "metadata": {},
     "output_type": "execute_result"
    }
   ],
   "source": [
    "text"
   ]
  },
  {
   "cell_type": "code",
   "execution_count": null,
   "metadata": {},
   "outputs": [],
   "source": []
  }
 ],
 "metadata": {
  "kernelspec": {
   "display_name": "base",
   "language": "python",
   "name": "python3"
  },
  "language_info": {
   "codemirror_mode": {
    "name": "ipython",
    "version": 3
   },
   "file_extension": ".py",
   "mimetype": "text/x-python",
   "name": "python",
   "nbconvert_exporter": "python",
   "pygments_lexer": "ipython3",
   "version": "3.12.1"
  }
 },
 "nbformat": 4,
 "nbformat_minor": 2
}
